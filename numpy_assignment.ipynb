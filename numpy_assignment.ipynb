{
 "cells": [
  {
   "cell_type": "code",
   "execution_count": null,
   "id": "d6a02063-3956-4c3d-be66-5f891827cd70",
   "metadata": {},
   "outputs": [],
   "source": []
  },
  {
   "cell_type": "code",
   "execution_count": 1,
   "id": "6c42d446-6af0-4b54-ad26-4fb6392da620",
   "metadata": {},
   "outputs": [],
   "source": [
    "#1D numpy array\n",
    "import numpy as np"
   ]
  },
  {
   "cell_type": "code",
   "execution_count": 2,
   "id": "e5776be5-311c-48c1-91d2-01a61be69891",
   "metadata": {},
   "outputs": [],
   "source": [
    "#create array from 1to 20\n",
    "arr = np.arange(1, 21)"
   ]
  },
  {
   "cell_type": "code",
   "execution_count": 3,
   "id": "0e87d529-168d-4d1a-89df-507f5285c32f",
   "metadata": {},
   "outputs": [
    {
     "data": {
      "text/plain": [
       "array([ 1,  2,  3,  4,  5,  6,  7,  8,  9, 10, 11, 12, 13, 14, 15, 16, 17,\n",
       "       18, 19, 20])"
      ]
     },
     "execution_count": 3,
     "metadata": {},
     "output_type": "execute_result"
    }
   ],
   "source": [
    "arr"
   ]
  },
  {
   "cell_type": "code",
   "execution_count": 5,
   "id": "21835106-a750-4887-ab79-e588e0caea05",
   "metadata": {},
   "outputs": [],
   "source": [
    "#Calculations\n",
    "total_sum = np.sum(arr)\n",
    "mean_val = np.mean(arr)\n",
    "median_val = np.median(arr)\n",
    "std_dev = np.std(arr)"
   ]
  },
  {
   "cell_type": "code",
   "execution_count": 12,
   "id": "0959e640-4735-49f2-b8d5-5818baf232af",
   "metadata": {},
   "outputs": [
    {
     "name": "stdout",
     "output_type": "stream",
     "text": [
      "Sum: 210\n",
      "Mean: 10.5\n",
      "Median: 10.5\n",
      "Standard Deviation: 5.766281297335398\n"
     ]
    }
   ],
   "source": [
    "print(\"Sum:\", total_sum)\n",
    "print(\"Mean:\", mean_val)\n",
    "print(\"Median:\", median_val)\n",
    "print(\"Standard Deviation:\", std_dev)"
   ]
  },
  {
   "cell_type": "code",
   "execution_count": 7,
   "id": "660adb07-540f-4911-882d-737dcc964e65",
   "metadata": {},
   "outputs": [],
   "source": [
    "#find indices where element is greater than 10\n",
    "indices = np.where(arr>10)"
   ]
  },
  {
   "cell_type": "code",
   "execution_count": 8,
   "id": "6bdef04b-29cd-4b38-8ba8-67e4e7111b34",
   "metadata": {},
   "outputs": [
    {
     "name": "stdout",
     "output_type": "stream",
     "text": [
      "indices of the elements greter than 10 [10 11 12 13 14 15 16 17 18 19]\n"
     ]
    }
   ],
   "source": [
    "print(\"indices of the elements greter than 10\", indices[0])"
   ]
  },
  {
   "cell_type": "code",
   "execution_count": 9,
   "id": "8a3b832f-183f-4628-9163-7ac3b238884a",
   "metadata": {},
   "outputs": [],
   "source": [
    "#Create 2D array of shape (4, 4)\n",
    "arr_2D = np.arange(1, 17).reshape(4, 4)"
   ]
  },
  {
   "cell_type": "code",
   "execution_count": 10,
   "id": "8eab9683-0801-42b4-8d9e-22922bb383a8",
   "metadata": {},
   "outputs": [
    {
     "data": {
      "text/plain": [
       "array([[ 1,  2,  3,  4],\n",
       "       [ 5,  6,  7,  8],\n",
       "       [ 9, 10, 11, 12],\n",
       "       [13, 14, 15, 16]])"
      ]
     },
     "execution_count": 10,
     "metadata": {},
     "output_type": "execute_result"
    }
   ],
   "source": [
    "#print the array\n",
    "arr_2D"
   ]
  },
  {
   "cell_type": "code",
   "execution_count": 4,
   "id": "6d683e6e-a4c6-422c-bf60-7ac1704861be",
   "metadata": {},
   "outputs": [],
   "source": [
    "#find the transpose\n",
    "import numpy as np\n",
    "arr_2D = np.arange(1, 17).reshape(4, 4)\n",
    "transpose_array = arr_2D.T"
   ]
  },
  {
   "cell_type": "code",
   "execution_count": 7,
   "id": "a93244c1-2024-4506-96ae-51b19db662d3",
   "metadata": {},
   "outputs": [
    {
     "name": "stdout",
     "output_type": "stream",
     "text": [
      "Original Array:\n",
      " [[ 1  2  3  4]\n",
      " [ 5  6  7  8]\n",
      " [ 9 10 11 12]\n",
      " [13 14 15 16]]\n",
      "\n",
      "Transpose of Array:\n",
      " [[ 1  5  9 13]\n",
      " [ 2  6 10 14]\n",
      " [ 3  7 11 15]\n",
      " [ 4  8 12 16]]\n"
     ]
    }
   ],
   "source": [
    "#print transpose\n",
    "print(\"Original Array:\\n\", arr_2D)\n",
    "print(\"\\nTranspose of Array:\\n\", transpose_array)"
   ]
  },
  {
   "cell_type": "code",
   "execution_count": 8,
   "id": "ab30a892-1df8-4c7b-9e32-1cdf0ba75d34",
   "metadata": {},
   "outputs": [],
   "source": [
    "#Calculate the row-wise and Column-wise sums of the array \n",
    "import numpy as np"
   ]
  },
  {
   "cell_type": "code",
   "execution_count": 9,
   "id": "baf9ab58-2c1c-4711-9d02-2162877d237e",
   "metadata": {},
   "outputs": [],
   "source": [
    "arr_2D = np.arange(1, 17).reshape(4, 4)"
   ]
  },
  {
   "cell_type": "code",
   "execution_count": 11,
   "id": "0cc960f4-a617-474f-b8e8-d7ac17ee4d46",
   "metadata": {},
   "outputs": [],
   "source": [
    "#Row-wise Sum\n",
    "row_sum = np.sum(arr_2D, axis = 1)"
   ]
  },
  {
   "cell_type": "code",
   "execution_count": 12,
   "id": "65afdce7-c4c2-4296-8364-548c7bb6e396",
   "metadata": {},
   "outputs": [],
   "source": [
    "#Column-wise Sum\n",
    "col_sum = np.sum(arr_2D, axis = 0)"
   ]
  },
  {
   "cell_type": "code",
   "execution_count": 14,
   "id": "bee33f0a-466f-4ada-9512-1ee1f8e64a0d",
   "metadata": {},
   "outputs": [
    {
     "name": "stdout",
     "output_type": "stream",
     "text": [
      "Array:\n",
      " [[ 1  2  3  4]\n",
      " [ 5  6  7  8]\n",
      " [ 9 10 11 12]\n",
      " [13 14 15 16]]\n",
      "\n",
      "Row-wise sum: [10 26 42 58]\n",
      "Column-wise sum: [28 32 36 40]\n"
     ]
    }
   ],
   "source": [
    "#print result\n",
    "print(\"Array:\\n\",arr_2D)\n",
    "print(\"\\nRow-wise sum:\",row_sum)\n",
    "print(\"Column-wise sum:\",col_sum)"
   ]
  },
  {
   "cell_type": "code",
   "execution_count": 15,
   "id": "1e72228b-c4ba-4502-9ae3-aa747c6e635b",
   "metadata": {},
   "outputs": [],
   "source": [
    "#Create two 3 X 3 arrays filled with random integers between 1 and 20.\n",
    "import numpy as np"
   ]
  },
  {
   "cell_type": "code",
   "execution_count": 18,
   "id": "6e7a501c-a4f4-40c1-aeaf-56b351609fb3",
   "metadata": {},
   "outputs": [],
   "source": [
    "array1 = np.random.randint(1, 21, size =(3, 3))\n",
    "array2 = np.random.randint(1, 21, size =(3, 3))"
   ]
  },
  {
   "cell_type": "code",
   "execution_count": 22,
   "id": "1cc543a9-ad78-47c3-ba12-44f6431afa72",
   "metadata": {},
   "outputs": [
    {
     "name": "stdout",
     "output_type": "stream",
     "text": [
      "Array:\n",
      " [[13  7  5]\n",
      " [ 5 14  4]\n",
      " [ 9 19 11]]\n",
      "\n",
      "Array:\n",
      " [[ 8 20 20]\n",
      " [19 15 16]\n",
      " [17  5  2]]\n"
     ]
    }
   ],
   "source": [
    "print(\"Array:\\n\",array1)\n",
    "print(\"\\nArray:\\n\",array2)"
   ]
  },
  {
   "cell_type": "code",
   "execution_count": 24,
   "id": "4d065b4c-0f1c-419e-962f-daddbad70dc8",
   "metadata": {},
   "outputs": [],
   "source": [
    "#perform element-wise addition, subtraction, and multiplication\n",
    "array1 = np.random.randint(1, 21, size =(3, 3))\n",
    "array2 = np.random.randint(1, 21, size =(3, 3))"
   ]
  },
  {
   "cell_type": "code",
   "execution_count": 26,
   "id": "7a5d7786-28a9-40ac-a97f-291c735fbb11",
   "metadata": {},
   "outputs": [],
   "source": [
    "#Element-wise Operation\n",
    "addition = array1 + array2\n",
    "substraction = array1 - array2\n",
    "multiplication = array1 * array2"
   ]
  },
  {
   "cell_type": "code",
   "execution_count": 28,
   "id": "ac47f0ab-2927-430f-8660-7df1011cb897",
   "metadata": {},
   "outputs": [
    {
     "name": "stdout",
     "output_type": "stream",
     "text": [
      "Array:\n",
      " [[15  5 10]\n",
      " [ 3 18 10]\n",
      " [ 2 17  6]]\n",
      "\n",
      "Array:\n",
      " [[ 2 16 11]\n",
      " [ 4 11  8]\n",
      " [15 14 16]]\n",
      "\n",
      "Element-wise Addition:\n",
      " [[17 21 21]\n",
      " [ 7 29 18]\n",
      " [17 31 22]]\n",
      "\n",
      "Element-wise substraction:\n",
      " [[ 13 -11  -1]\n",
      " [ -1   7   2]\n",
      " [-13   3 -10]]\n",
      "\n",
      "Element-wise Multtiplication:\n",
      " [[ 30  80 110]\n",
      " [ 12 198  80]\n",
      " [ 30 238  96]]\n"
     ]
    }
   ],
   "source": [
    "#print result \n",
    "print(\"Array:\\n\",array1)\n",
    "print(\"\\nArray:\\n\",array2)\n",
    "print(\"\\nElement-wise Addition:\\n\", addition)\n",
    "print(\"\\nElement-wise substraction:\\n\", substraction)\n",
    "print(\"\\nElement-wise Multtiplication:\\n\", multiplication)"
   ]
  },
  {
   "cell_type": "code",
   "execution_count": 29,
   "id": "a0ad227f-01b5-4374-9f00-af6bfef3053b",
   "metadata": {},
   "outputs": [],
   "source": [
    "#compute the dot product of the two arrays\n",
    "array1 = np.random.randint(1, 21, size =(3, 3))\n",
    "array2 = np.random.randint(1, 21, size =(3, 3))"
   ]
  },
  {
   "cell_type": "code",
   "execution_count": 30,
   "id": "6adfef34-886b-4a92-923d-58518961320f",
   "metadata": {},
   "outputs": [],
   "source": [
    "dot_product = np.dot(array1, array2)"
   ]
  },
  {
   "cell_type": "code",
   "execution_count": 33,
   "id": "2cb836e4-5396-479c-ada7-a2e7e364e6a4",
   "metadata": {},
   "outputs": [
    {
     "name": "stdout",
     "output_type": "stream",
     "text": [
      "Array 1:\n",
      " [[12  6  1]\n",
      " [10  1 16]\n",
      " [ 9  8 12]]\n",
      "\n",
      "Array 2:\n",
      " [[16  5  2]\n",
      " [10 10 19]\n",
      " [10  7 11]]\n",
      "\n",
      "Dot Product (Matrix Multiplication):\n",
      " [[262 127 149]\n",
      " [330 172 215]\n",
      " [344 209 302]]\n"
     ]
    }
   ],
   "source": [
    "print(\"Array 1:\\n\", array1)\n",
    "print(\"\\nArray 2:\\n\", array2)\n",
    "print(\"\\nDot Product (Matrix Multiplication):\\n\", dot_product)"
   ]
  },
  {
   "cell_type": "code",
   "execution_count": 34,
   "id": "7088e350-35b4-433f-8da3-816b89ca9ff3",
   "metadata": {},
   "outputs": [],
   "source": [
    "#create 1D array of size 12\n",
    "arr_1D = np.arange(1, 13"
   ]
  },
  {
   "cell_type": "code",
   "execution_count": 36,
   "id": "f86ceb73-639d-47f1-bc20-572c8229433e",
   "metadata": {},
   "outputs": [],
   "source": [
    "#Reshape array \n",
    "arr_2D = arr_1D.reshape(3, 4)"
   ]
  },
  {
   "cell_type": "code",
   "execution_count": 37,
   "id": "b5f77019-8136-4dbd-8f52-a40283cf0990",
   "metadata": {},
   "outputs": [],
   "source": [
    "#sliced first two rows (0:2) and Last two columns -2\n",
    "sliced_array = arr_2D[0:2, -2:]"
   ]
  },
  {
   "cell_type": "code",
   "execution_count": 39,
   "id": "ddc1ecc7-45fd-489c-b2a8-a8632a4be31c",
   "metadata": {},
   "outputs": [
    {
     "name": "stdout",
     "output_type": "stream",
     "text": [
      "Original 1D Array:\n",
      " [ 1  2  3  4  5  6  7  8  9 10 11 12]\n",
      "\n",
      "Reshaped 3x4 Array:\n",
      " [[ 1  2  3  4]\n",
      " [ 5  6  7  8]\n",
      " [ 9 10 11 12]]\n",
      "\n",
      "Sliced (First 2 rows, Last 2 columns):\n",
      " [[3 4]\n",
      " [7 8]]\n"
     ]
    }
   ],
   "source": [
    "print(\"Original 1D Array:\\n\", arr_1D)\n",
    "print(\"\\nReshaped 3x4 Array:\\n\", arr_2D)\n",
    "print(\"\\nSliced (First 2 rows, Last 2 columns):\\n\", sliced_array)"
   ]
  },
  {
   "cell_type": "code",
   "execution_count": null,
   "id": "5303bde0-1290-4b2b-969d-f7848419526e",
   "metadata": {},
   "outputs": [],
   "source": []
  }
 ],
 "metadata": {
  "kernelspec": {
   "display_name": "Python 3 (ipykernel)",
   "language": "python",
   "name": "python3"
  },
  "language_info": {
   "codemirror_mode": {
    "name": "ipython",
    "version": 3
   },
   "file_extension": ".py",
   "mimetype": "text/x-python",
   "name": "python",
   "nbconvert_exporter": "python",
   "pygments_lexer": "ipython3",
   "version": "3.13.5"
  }
 },
 "nbformat": 4,
 "nbformat_minor": 5
}
