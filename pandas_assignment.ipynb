{
 "cells": [
  {
   "cell_type": "code",
   "execution_count": 1,
   "id": "b73e05f7-0c86-48df-9a40-eafeb949c0f2",
   "metadata": {},
   "outputs": [],
   "source": [
    "#This notebook demonstrates basic data manipulation using **Pandas**. Each step is explained below.\n",
    "#Import Pandas and create DataFrame\n",
    "#We import the pandas library and create a DataFrame containing employee data: Name, Age, Department, and Salary."
   ]
  },
  {
   "cell_type": "code",
   "execution_count": null,
   "id": "a8d7de53-42a6-4651-9248-6b7a1c90a967",
   "metadata": {},
   "outputs": [],
   "source": [
    "import pandas as pd"
   ]
  },
  {
   "cell_type": "code",
   "execution_count": 2,
   "id": "bac3726b-4e1b-4116-af69-306ed9848c39",
   "metadata": {},
   "outputs": [],
   "source": [
    "#create he dataframe\n",
    "data = {\n",
    "    'Name': ['Alice', 'Bob', 'Charlie', 'Diana', 'Eve'],\n",
    "    'Age': [24, 27, 22, 32, 29],\n",
    "    'Department': ['HR', 'Finance', 'IT', 'Marketing', 'HR'],\n",
    "    'Salary': [45000, 54000, 50000, 62000, 47000]\n",
    "}"
   ]
  },
  {
   "cell_type": "code",
   "execution_count": 3,
   "id": "363455e3-fb55-416f-b158-360af4699a15",
   "metadata": {},
   "outputs": [],
   "source": [
    "#Display the dataframe\n",
    "df = pd.DataFrame(data)"
   ]
  },
  {
   "cell_type": "code",
   "execution_count": 4,
   "id": "ac881707-4ea1-465c-999e-2b55e3fb4184",
   "metadata": {},
   "outputs": [
    {
     "data": {
      "text/html": [
       "<div>\n",
       "<style scoped>\n",
       "    .dataframe tbody tr th:only-of-type {\n",
       "        vertical-align: middle;\n",
       "    }\n",
       "\n",
       "    .dataframe tbody tr th {\n",
       "        vertical-align: top;\n",
       "    }\n",
       "\n",
       "    .dataframe thead th {\n",
       "        text-align: right;\n",
       "    }\n",
       "</style>\n",
       "<table border=\"1\" class=\"dataframe\">\n",
       "  <thead>\n",
       "    <tr style=\"text-align: right;\">\n",
       "      <th></th>\n",
       "      <th>Name</th>\n",
       "      <th>Age</th>\n",
       "      <th>Department</th>\n",
       "      <th>Salary</th>\n",
       "    </tr>\n",
       "  </thead>\n",
       "  <tbody>\n",
       "    <tr>\n",
       "      <th>0</th>\n",
       "      <td>Alice</td>\n",
       "      <td>24</td>\n",
       "      <td>HR</td>\n",
       "      <td>45000</td>\n",
       "    </tr>\n",
       "    <tr>\n",
       "      <th>1</th>\n",
       "      <td>Bob</td>\n",
       "      <td>27</td>\n",
       "      <td>Finance</td>\n",
       "      <td>54000</td>\n",
       "    </tr>\n",
       "    <tr>\n",
       "      <th>2</th>\n",
       "      <td>Charlie</td>\n",
       "      <td>22</td>\n",
       "      <td>IT</td>\n",
       "      <td>50000</td>\n",
       "    </tr>\n",
       "    <tr>\n",
       "      <th>3</th>\n",
       "      <td>Diana</td>\n",
       "      <td>32</td>\n",
       "      <td>Marketing</td>\n",
       "      <td>62000</td>\n",
       "    </tr>\n",
       "    <tr>\n",
       "      <th>4</th>\n",
       "      <td>Eve</td>\n",
       "      <td>29</td>\n",
       "      <td>HR</td>\n",
       "      <td>47000</td>\n",
       "    </tr>\n",
       "  </tbody>\n",
       "</table>\n",
       "</div>"
      ],
      "text/plain": [
       "      Name  Age Department  Salary\n",
       "0    Alice   24         HR   45000\n",
       "1      Bob   27    Finance   54000\n",
       "2  Charlie   22         IT   50000\n",
       "3    Diana   32  Marketing   62000\n",
       "4      Eve   29         HR   47000"
      ]
     },
     "execution_count": 4,
     "metadata": {},
     "output_type": "execute_result"
    }
   ],
   "source": [
    "df"
   ]
  },
  {
   "cell_type": "code",
   "execution_count": 6,
   "id": "c1d49240-fe26-4047-9a20-91d5f3c619f6",
   "metadata": {},
   "outputs": [
    {
     "name": "stdout",
     "output_type": "stream",
     "text": [
      "      Name  Age Department  Salary\n",
      "0    Alice   24         HR   45000\n",
      "1      Bob   27    Finance   54000\n",
      "2  Charlie   22         IT   50000\n",
      "3    Diana   32  Marketing   62000\n",
      "4      Eve   29         HR   47000\n"
     ]
    }
   ],
   "source": [
    "#print the first five rows of dataframe \n",
    "print(df.head())"
   ]
  },
  {
   "cell_type": "code",
   "execution_count": 8,
   "id": "e6190d91-e26f-4e07-acd3-5456bb244f07",
   "metadata": {},
   "outputs": [
    {
     "name": "stdout",
     "output_type": "stream",
     "text": [
      "             Age        Salary\n",
      "count   5.000000      5.000000\n",
      "mean   26.800000  51600.000000\n",
      "std     3.962323   6730.527468\n",
      "min    22.000000  45000.000000\n",
      "25%    24.000000  47000.000000\n",
      "50%    27.000000  50000.000000\n",
      "75%    29.000000  54000.000000\n",
      "max    32.000000  62000.000000\n"
     ]
    }
   ],
   "source": [
    "#summary statistics for Age and Salary\n",
    "print(df[['Age', 'Salary']].describe())"
   ]
  },
  {
   "cell_type": "code",
   "execution_count": 9,
   "id": "a5cebb63-29e0-490e-8f70-b0ac2efd5e5f",
   "metadata": {},
   "outputs": [
    {
     "name": "stdout",
     "output_type": "stream",
     "text": [
      "Average HR Salary: 46000.0\n"
     ]
    }
   ],
   "source": [
    "#Averagee salary of the employee in HR department\n",
    "avg_hr_salary = df[df['Department'] == 'HR']['Salary'].mean()\n",
    "print(\"Average HR Salary:\", avg_hr_salary)"
   ]
  },
  {
   "cell_type": "code",
   "execution_count": 10,
   "id": "0ff92c45-049e-478b-b121-7ae1b2451cff",
   "metadata": {},
   "outputs": [],
   "source": [
    "# Add a new column 'Bonus' = 10% of Salary\n",
    "df['Bonus'] = df['Salary'] * 0.10"
   ]
  },
  {
   "cell_type": "code",
   "execution_count": 11,
   "id": "2891b96f-6459-4dff-bdde-b7dfb070fecc",
   "metadata": {},
   "outputs": [
    {
     "data": {
      "text/html": [
       "<div>\n",
       "<style scoped>\n",
       "    .dataframe tbody tr th:only-of-type {\n",
       "        vertical-align: middle;\n",
       "    }\n",
       "\n",
       "    .dataframe tbody tr th {\n",
       "        vertical-align: top;\n",
       "    }\n",
       "\n",
       "    .dataframe thead th {\n",
       "        text-align: right;\n",
       "    }\n",
       "</style>\n",
       "<table border=\"1\" class=\"dataframe\">\n",
       "  <thead>\n",
       "    <tr style=\"text-align: right;\">\n",
       "      <th></th>\n",
       "      <th>Name</th>\n",
       "      <th>Age</th>\n",
       "      <th>Department</th>\n",
       "      <th>Salary</th>\n",
       "      <th>Bonus</th>\n",
       "    </tr>\n",
       "  </thead>\n",
       "  <tbody>\n",
       "    <tr>\n",
       "      <th>0</th>\n",
       "      <td>Alice</td>\n",
       "      <td>24</td>\n",
       "      <td>HR</td>\n",
       "      <td>45000</td>\n",
       "      <td>4500.0</td>\n",
       "    </tr>\n",
       "    <tr>\n",
       "      <th>1</th>\n",
       "      <td>Bob</td>\n",
       "      <td>27</td>\n",
       "      <td>Finance</td>\n",
       "      <td>54000</td>\n",
       "      <td>5400.0</td>\n",
       "    </tr>\n",
       "    <tr>\n",
       "      <th>2</th>\n",
       "      <td>Charlie</td>\n",
       "      <td>22</td>\n",
       "      <td>IT</td>\n",
       "      <td>50000</td>\n",
       "      <td>5000.0</td>\n",
       "    </tr>\n",
       "    <tr>\n",
       "      <th>3</th>\n",
       "      <td>Diana</td>\n",
       "      <td>32</td>\n",
       "      <td>Marketing</td>\n",
       "      <td>62000</td>\n",
       "      <td>6200.0</td>\n",
       "    </tr>\n",
       "    <tr>\n",
       "      <th>4</th>\n",
       "      <td>Eve</td>\n",
       "      <td>29</td>\n",
       "      <td>HR</td>\n",
       "      <td>47000</td>\n",
       "      <td>4700.0</td>\n",
       "    </tr>\n",
       "  </tbody>\n",
       "</table>\n",
       "</div>"
      ],
      "text/plain": [
       "      Name  Age Department  Salary   Bonus\n",
       "0    Alice   24         HR   45000  4500.0\n",
       "1      Bob   27    Finance   54000  5400.0\n",
       "2  Charlie   22         IT   50000  5000.0\n",
       "3    Diana   32  Marketing   62000  6200.0\n",
       "4      Eve   29         HR   47000  4700.0"
      ]
     },
     "execution_count": 11,
     "metadata": {},
     "output_type": "execute_result"
    }
   ],
   "source": [
    "df"
   ]
  },
  {
   "cell_type": "code",
   "execution_count": 15,
   "id": "d8c68860-290c-4a25-baf8-08803cca8d45",
   "metadata": {},
   "outputs": [
    {
     "name": "stdout",
     "output_type": "stream",
     "text": [
      "  Name  Age Department  Salary   Bonus\n",
      "1  Bob   27    Finance   54000  5400.0\n",
      "4  Eve   29         HR   47000  4700.0\n"
     ]
    }
   ],
   "source": [
    "#Filter employees Aged Between 25 and 30\n",
    "age_filter = df[(df['Age']>= 25) & (df['Age']<=30)]\n",
    "print(age_filter)"
   ]
  },
  {
   "cell_type": "code",
   "execution_count": 16,
   "id": "785fde96-e912-4d26-aa50-3fd69493824a",
   "metadata": {},
   "outputs": [
    {
     "name": "stdout",
     "output_type": "stream",
     "text": [
      "Department\n",
      "Finance      54000.0\n",
      "HR           46000.0\n",
      "IT           50000.0\n",
      "Marketing    62000.0\n",
      "Name: Salary, dtype: float64\n"
     ]
    }
   ],
   "source": [
    "#Group by department and calculate the average Salary\n",
    "dept_avg_salary = df.groupby('Department')['Salary'].mean()\n",
    "print(dept_avg_salary)"
   ]
  },
  {
   "cell_type": "code",
   "execution_count": 22,
   "id": "5d8d694f-2f1a-4376-ad9a-e7d4df8b85dd",
   "metadata": {},
   "outputs": [
    {
     "name": "stdout",
     "output_type": "stream",
     "text": [
      "      Name  Age Department  Salary   Bonus\n",
      "0    Alice   24         HR   45000  4500.0\n",
      "4      Eve   29         HR   47000  4700.0\n",
      "2  Charlie   22         IT   50000  5000.0\n",
      "1      Bob   27    Finance   54000  5400.0\n",
      "3    Diana   32  Marketing   62000  6200.0\n"
     ]
    }
   ],
   "source": [
    "#sort by salary in ascending order\n",
    "sorted_df = df.sort_values(by='Salary', ascending=True)\n",
    "print(sorted_df)"
   ]
  },
  {
   "cell_type": "code",
   "execution_count": 23,
   "id": "eadb2956-b413-4fd5-9535-d2b5a85d5a51",
   "metadata": {},
   "outputs": [],
   "source": [
    "sorted_df.to_csv(\"sorted_employees.csv\", index=False)"
   ]
  },
  {
   "cell_type": "code",
   "execution_count": 24,
   "id": "d749ea4b-d459-4a9f-90bc-306ef915c11f",
   "metadata": {},
   "outputs": [],
   "source": [
    "#Load the save csv file back intto dataframe\n",
    "loaded_df = pd.read_csv(\"sorted_employees.csv\")"
   ]
  },
  {
   "cell_type": "code",
   "execution_count": 26,
   "id": "d41b5256-7bf6-462a-a416-407a94ca0239",
   "metadata": {},
   "outputs": [
    {
     "name": "stdout",
     "output_type": "stream",
     "text": [
      "      Name  Age Department  Salary   Bonus\n",
      "0    Alice   24         HR   45000  4500.0\n",
      "1      Eve   29         HR   47000  4700.0\n",
      "2  Charlie   22         IT   50000  5000.0\n",
      "3      Bob   27    Finance   54000  5400.0\n",
      "4    Diana   32  Marketing   62000  6200.0\n"
     ]
    }
   ],
   "source": [
    "print(loaded_df)"
   ]
  },
  {
   "cell_type": "code",
   "execution_count": null,
   "id": "2ddbb21c-f28b-4ae6-9e18-7314eaff7161",
   "metadata": {},
   "outputs": [],
   "source": []
  }
 ],
 "metadata": {
  "kernelspec": {
   "display_name": "Python 3 (ipykernel)",
   "language": "python",
   "name": "python3"
  },
  "language_info": {
   "codemirror_mode": {
    "name": "ipython",
    "version": 3
   },
   "file_extension": ".py",
   "mimetype": "text/x-python",
   "name": "python",
   "nbconvert_exporter": "python",
   "pygments_lexer": "ipython3",
   "version": "3.13.5"
  }
 },
 "nbformat": 4,
 "nbformat_minor": 5
}
