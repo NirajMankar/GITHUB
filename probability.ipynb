{
 "cells": [
  {
   "cell_type": "code",
   "execution_count": 1,
   "id": "9a6676fb-8a5b-4e60-a2a0-1a56f81d0bd0",
   "metadata": {},
   "outputs": [],
   "source": [
    "import random"
   ]
  },
  {
   "cell_type": "code",
   "execution_count": 19,
   "id": "7a8a6e60-a6c4-4e17-bdfd-7533639dd2b0",
   "metadata": {},
   "outputs": [],
   "source": [
    "#part A:Tossing a coin\n",
    "def coin_toss_simulation(trails=10000):\n",
    "    heads = 0\n",
    "    tails = 0"
   ]
  },
  {
   "cell_type": "code",
   "execution_count": 24,
   "id": "419a34a1-801f-47d4-97b6-48ead1e7cae4",
   "metadata": {},
   "outputs": [],
   "source": [
    "trials=10000\n",
    "heads = 0\n",
    "tails = 0\n",
    "for _ in range(trials):\n",
    "    toss = random.choice([\"H\", \"T\"])\n",
    "    if toss == \"H\":\n",
    "        heads += 1\n",
    "    else:\n",
    "        tails += 1"
   ]
  },
  {
   "cell_type": "code",
   "execution_count": 26,
   "id": "98bd9ee3-b832-4705-8a5b-44488abf4a55",
   "metadata": {},
   "outputs": [
    {
     "name": "stdout",
     "output_type": "stream",
     "text": [
      "Coin Toss Simulation:\n",
      " Total Tosses: 10000\n",
      " Heads: 4981 (0.4981)\n",
      " Tails: 5019 (0.5019)\n",
      "----------------------------------------\n"
     ]
    }
   ],
   "source": [
    "prob_heads = heads / trials\n",
    "prob_tails = tails / trials\n",
    "    \n",
    "print(\"Coin Toss Simulation:\")\n",
    "print(f\" Total Tosses: {trials}\")\n",
    "print(f\" Heads: {heads} ({prob_heads:.4f})\")\n",
    "print(f\" Tails: {tails} ({prob_tails:.4f})\")\n",
    "print(\"-\" * 40)\n"
   ]
  },
  {
   "cell_type": "code",
   "execution_count": 34,
   "id": "14be286d-d435-472e-a14e-ee556555f09b",
   "metadata": {},
   "outputs": [],
   "source": [
    "#part B: Rolling Two Dices\n",
    "def dice_roll_simulation(trials=10000):\n",
    "    sum_seven = 0"
   ]
  },
  {
   "cell_type": "code",
   "execution_count": 37,
   "id": "db9ac7c5-db41-4062-bd6d-892f1e1ebd8c",
   "metadata": {},
   "outputs": [
    {
     "name": "stdout",
     "output_type": "stream",
     "text": [
      "Dice Roll Simulation:\n",
      " Total Rolls: 10000\n",
      " Sum = 7 occurred: 1672 times\n",
      " Experimental Probability of sum=7: 0.1672\n",
      "----------------------------------------\n"
     ]
    }
   ],
   "source": [
    "trials=10000\n",
    "sum_seven = 0\n",
    "for _ in range(trials):\n",
    "        die1 = random.randint(1, 6)\n",
    "        die2 = random.randint(1, 6)\n",
    "        if die1 + die2 == 7:\n",
    "            sum_seven += 1\n",
    "prob_seven = sum_seven / trials\n",
    "print(\"Dice Roll Simulation:\")\n",
    "print(f\" Total Rolls: {trials}\")\n",
    "print(f\" Sum = 7 occurred: {sum_seven} times\")\n",
    "print(f\" Experimental Probability of sum=7: {prob_seven:.4f}\")\n",
    "print(\"-\" * 40)\n",
    "coin_toss_simulation(10000)\n",
    "dice_roll_simulation(10000)"
   ]
  },
  {
   "cell_type": "code",
   "execution_count": 38,
   "id": "393e8e99-8ea1-4f7c-834b-65069eaf05d8",
   "metadata": {},
   "outputs": [],
   "source": [
    "#estimate the probability of getting at least one \"6\" in 10 rolls of a fair die.\n",
    "def probability_at_least_one_six(trials=10000, rolls=10):\n",
    "    success = 0  "
   ]
  },
  {
   "cell_type": "code",
   "execution_count": 43,
   "id": "591aabf6-40d2-416a-9655-d09642b387d4",
   "metadata": {},
   "outputs": [
    {
     "name": "stdout",
     "output_type": "stream",
     "text": [
      "Simulation of 10000 trials:\n",
      " Rolls per trial: 10\n",
      " Successful trials (at least one 6): 8370\n",
      " Experimental Probability: 0.8370\n"
     ]
    }
   ],
   "source": [
    "trials=10000\n",
    "rolls=10\n",
    "success = 0\n",
    "for _ in range(trials):\n",
    "        found_six = False\n",
    "        for _ in range(rolls):\n",
    "            die = random.randint(1, 6)\n",
    "            if die == 6:\n",
    "                found_six = True\n",
    "                break  # stop rolling since we already found a 6\n",
    "        if found_six:\n",
    "            success += 1\n",
    "probability = success / trials\n",
    "print(f\"Simulation of {trials} trials:\")\n",
    "print(f\" Rolls per trial: {rolls}\")\n",
    "print(f\" Successful trials (at least one 6): {success}\")\n",
    "print(f\" Experimental Probability: {probability:.4f}\")"
   ]
  },
  {
   "cell_type": "code",
   "execution_count": null,
   "id": "9b3f5f06-4634-4771-9900-dd039d9da0de",
   "metadata": {},
   "outputs": [],
   "source": [
    "#Conditional Probability and Bayes' Theorem"
   ]
  },
  {
   "cell_type": "code",
   "execution_count": 44,
   "id": "1da23cfb-cda6-4386-86d3-99785b119f1c",
   "metadata": {},
   "outputs": [],
   "source": [
    "#A bag contains 5 red, 7 green, and 8 blue balls. A ball is drawn randomly, its color noted, and it is put back into the bag. If this process is repeated 1000 times\n",
    "import random"
   ]
  },
  {
   "cell_type": "code",
   "execution_count": 45,
   "id": "3b9a3616-6c66-4a66-bca9-4d50d1b5ee2d",
   "metadata": {},
   "outputs": [],
   "source": [
    "def simulate_balls(trials=1000):\n",
    "    colors = [\"R\"] * 5 + [\"G\"] * 7 + [\"B\"] * 8  # Bag composition\n",
    "    draws = []"
   ]
  },
  {
   "cell_type": "code",
   "execution_count": 47,
   "id": "c449cfa2-eb4f-4ef5-8260-41c027897415",
   "metadata": {},
   "outputs": [],
   "source": [
    "colors = [\"R\"] * 5 + [\"G\"] * 7 + [\"B\"] * 8\n",
    "draws = []\n",
    "for _ in range(trials):\n",
    "        draws.append(random.choice(colors))"
   ]
  },
  {
   "cell_type": "code",
   "execution_count": 49,
   "id": "2dbe5f46-f1ba-41e4-9f3b-4822b951d5ef",
   "metadata": {},
   "outputs": [],
   "source": [
    " # Step 2: Compute conditional probability P(R | prev = B)\n",
    "red_given_blue_prev_count = 0\n",
    "blue_prev_count = 0"
   ]
  },
  {
   "cell_type": "code",
   "execution_count": 51,
   "id": "5fd23710-bf6e-469f-b8f4-bae6bc29809a",
   "metadata": {},
   "outputs": [],
   "source": [
    " for i in range(1, len(draws)):  # start from 2nd draw\n",
    "        if draws[i-1] == \"B\":   # check if previous is blue\n",
    "            blue_prev_count += 1\n",
    "            if draws[i] == \"R\":\n",
    "                red_given_blue_prev_count += 1\n",
    " p_red_given_blue_prev = red_given_blue_prev_count / blue_prev_count if blue_prev_count > 0 else 0"
   ]
  },
  {
   "cell_type": "code",
   "execution_count": 54,
   "id": "47b2d185-721a-454e-b246-662e04cfcd48",
   "metadata": {},
   "outputs": [],
   "source": [
    "# Step 3: Bayes theorem verification\n",
    "    # P(R)\n",
    "p_red = draws.count(\"R\") / len(draws)\n",
    "    # P(B_prev)\n",
    "p_blue_prev = draws[:-1].count(\"B\") / (len(draws) - 1)\n",
    "    # P(B_prev | R)\n",
    "blue_prev_given_red_count = 0\n",
    "red_count = 0\n",
    "for i in range(1, len(draws)):\n",
    "    if draws[i] == \"R\":\n",
    "        red_count += 1\n",
    "        if draws[i-1] == \"B\":\n",
    "            blue_prev_given_red_count += 1\n",
    "p_blue_prev_given_red = blue_prev_given_red_count / red_count if red_count > 0 else 0\n",
    "    "
   ]
  },
  {
   "cell_type": "code",
   "execution_count": 56,
   "id": "0d3b1faa-8bcd-4188-bde0-be39a2e84424",
   "metadata": {},
   "outputs": [
    {
     "name": "stdout",
     "output_type": "stream",
     "text": [
      "Simulation Results:\n",
      " P(R | Previous=B) ≈ 0.2416\n",
      " Bayes' Theorem Result ≈ 0.2415\n",
      "----------------------------------------\n",
      " P(R) ≈ 0.2468\n",
      " P(Previous=B) ≈ 0.4094\n",
      " P(Previous=B | R) ≈ 0.4007\n"
     ]
    }
   ],
   "source": [
    "p_bayes = (p_blue_prev_given_red * p_red) / p_blue_prev if p_blue_prev > 0 else 0\n",
    "print(\"Simulation Results:\")\n",
    "print(f\" P(R | Previous=B) ≈ {p_red_given_blue_prev:.4f}\")\n",
    "print(f\" Bayes' Theorem Result ≈ {p_bayes:.4f}\")\n",
    "print(\"-\" * 40)\n",
    "print(f\" P(R) ≈ {p_red:.4f}\")\n",
    "print(f\" P(Previous=B) ≈ {p_blue_prev:.4f}\")\n",
    "print(f\" P(Previous=B | R) ≈ {p_blue_prev_given_red:.4f}\")"
   ]
  },
  {
   "cell_type": "code",
   "execution_count": 57,
   "id": "45f1852b-c351-4224-bbe9-6f72003971af",
   "metadata": {},
   "outputs": [],
   "source": [
    "#Random Variables and Discrete Probability\n",
    "import numpy as np"
   ]
  },
  {
   "cell_type": "code",
   "execution_count": 59,
   "id": "d412873a-6c6f-4941-b4b4-a375f1a20f6c",
   "metadata": {},
   "outputs": [],
   "source": [
    "values = [1,2,3]\n",
    "probabilities = [0.25, 0.35, 0.40]\n",
    "sample = np.random.choice(values, size=1000, p=probabilities) #sample size of 1000"
   ]
  },
  {
   "cell_type": "code",
   "execution_count": 61,
   "id": "490603b5-269a-4d35-b6c1-879d73b8ca47",
   "metadata": {},
   "outputs": [
    {
     "name": "stdout",
     "output_type": "stream",
     "text": [
      "Empirical Results from Sample of 1000:\n",
      " Mean = 2.1510\n",
      " Variance = 0.6102\n",
      " Standard Deviation = 0.7812\n"
     ]
    }
   ],
   "source": [
    "mean_empirical = np.mean(sample)\n",
    "variance_empirical = np.var(sample) \n",
    "std_dev_empirical = np.std(sample) \n",
    "print(\"Empirical Results from Sample of 1000:\")\n",
    "print(f\" Mean = {mean_empirical:.4f}\")\n",
    "print(f\" Variance = {variance_empirical:.4f}\")\n",
    "print(f\" Standard Deviation = {std_dev_empirical:.4f}\")"
   ]
  },
  {
   "cell_type": "code",
   "execution_count": 63,
   "id": "14d6db70-c986-4eb8-b96b-96383c98ac5f",
   "metadata": {},
   "outputs": [],
   "source": [
    "#Continuous Random Variables\n",
    "import numpy as np\n",
    "import matplotlib.pyplot as plt\n",
    "mean = 5\n",
    "size = 2000\n",
    "samples = np.random.exponential(scale=mean, size=size)"
   ]
  },
  {
   "cell_type": "code",
   "execution_count": 64,
   "id": "d38ba3bf-fc12-4217-83d1-7785d3d5eb09",
   "metadata": {},
   "outputs": [
    {
     "data": {
      "image/png": "[encoded data removed]",
      "text/plain": [
       "<Figure size 640x480 with 1 Axes>"
      ]
     },
     "metadata": {},
     "output_type": "display_data"
    }
   ],
   "source": [
    "count, bins, _ = plt.hist(samples, bins=30, density=True, alpha=0.6, color='skyblue', edgecolor='black', label=\"Histogram\")"
   ]
  },
  {
   "cell_type": "code",
   "execution_count": 66,
   "id": "275132b6-6584-43e6-8ce9-836954ac29fd",
   "metadata": {},
   "outputs": [
    {
     "data": {
      "image/png": "[encoded data removed]",
      "text/plain": [
       "<Figure size 640x480 with 1 Axes>"
      ]
     },
     "metadata": {},
     "output_type": "display_data"
    }
   ],
   "source": [
    "x = np.linspace(0, max(samples), 200)\n",
    "pdf = (1/mean) * np.exp(-x/mean)  # Exponential PDF: f(x) = (1/λ) e^(-x/λ)\n",
    "plt.plot(x, pdf, 'r-', lw=2, label=\"Exponential PDF (mean=5)\")\n",
    "plt.title(\"Exponential Distribution Simulation (mean=5)\")\n",
    "plt.xlabel(\"Value\")\n",
    "plt.ylabel(\"Density\")\n",
    "plt.legend()\n",
    "plt.show()"
   ]
  },
  {
   "cell_type": "code",
   "execution_count": 67,
   "id": "c46c8e85-3988-465e-a4e6-a619321f97d9",
   "metadata": {},
   "outputs": [],
   "source": [
    "#central limit theorem\n",
    "import numpy as np \n",
    "import matplotlib.pyplot as plt\n",
    "uniform_data = np.random.uniform(low=0, high=1, size=10000)  #10,000 random numbers from Uniform(0,1)"
   ]
  },
  {
   "cell_type": "code",
   "execution_count": 68,
   "id": "48b8da6a-85b9-4e59-93aa-e0455b680881",
   "metadata": {},
   "outputs": [],
   "source": [
    "n = 30\n",
    "sample_means = []\n",
    "for _ in range(1000):\n",
    "    sample = np.random.choice(uniform_data, size=n, replace=True)\n",
    "    sample_means.append(np.mean(sample))\n",
    "sample_means = np.array(sample_means)"
   ]
  },
  {
   "cell_type": "code",
   "execution_count": 69,
   "id": "b9d1da73-d5a4-4fbd-bf62-64ed812cff35",
   "metadata": {},
   "outputs": [
    {
     "data": {
      "text/plain": [
       "<Figure size 1200x500 with 0 Axes>"
      ]
     },
     "execution_count": 69,
     "metadata": {},
     "output_type": "execute_result"
    },
    {
     "data": {
      "text/plain": [
       "<Figure size 1200x500 with 0 Axes>"
      ]
     },
     "metadata": {},
     "output_type": "display_data"
    }
   ],
   "source": [
    "plt.figure(figsize=(12,5))"
   ]
  },
  {
   "cell_type": "code",
   "execution_count": 70,
   "id": "36394080-4318-4866-8489-5073c17922ee",
   "metadata": {},
   "outputs": [
    {
     "data": {
      "text/plain": [
       "Text(0, 0.5, 'Density')"
      ]
     },
     "execution_count": 70,
     "metadata": {},
     "output_type": "execute_result"
    },
    {
     "data": {
      "image/png": "[encoded data removed]",
      "text/plain": [
       "<Figure size 640x480 with 1 Axes>"
      ]
     },
     "metadata": {},
     "output_type": "display_data"
    }
   ],
   "source": [
    "plt.subplot(1,2,1)\n",
    "plt.hist(uniform_data, bins=30, density=True, color='skyblue', edgecolor='black')\n",
    "plt.title(\"Uniform Distribution (0,1)\")\n",
    "plt.xlabel(\"Value\")\n",
    "plt.ylabel(\"Density\")"
   ]
  },
  {
   "cell_type": "code",
   "execution_count": 71,
   "id": "bffdc365-15e1-4a01-ac2a-f6b0198599b1",
   "metadata": {},
   "outputs": [
    {
     "data": {
      "image/png": "[encoded data removed]",
      "text/plain": [
       "<Figure size 640x480 with 1 Axes>"
      ]
     },
     "metadata": {},
     "output_type": "display_data"
    }
   ],
   "source": [
    "plt.subplot(1,2,2)\n",
    "plt.hist(sample_means, bins=30, density=True, color='salmon', edgecolor='black')\n",
    "plt.title(\"Distribution of Sample Means (n=30)\")\n",
    "plt.xlabel(\"Sample Mean\")\n",
    "plt.ylabel(\"Density\")\n",
    "plt.tight_layout()\n",
    "plt.show()"
   ]
  },
  {
   "cell_type": "code",
   "execution_count": null,
   "id": "9b9919f3-3355-41f2-a77d-dd03aecc4dc4",
   "metadata": {},
   "outputs": [],
   "source": []
  }
 ],
 "metadata": {
  "kernelspec": {
   "display_name": "Python 3 (ipykernel)",
   "language": "python",
   "name": "python3"
  },
  "language_info": {
   "codemirror_mode": {
    "name": "ipython",
    "version": 3
   },
   "file_extension": ".py",
   "mimetype": "text/x-python",
   "name": "python",
   "nbconvert_exporter": "python",
   "pygments_lexer": "ipython3",
   "version": "3.13.5"
  }
 },
 "nbformat": 4,
 "nbformat_minor": 5
}
